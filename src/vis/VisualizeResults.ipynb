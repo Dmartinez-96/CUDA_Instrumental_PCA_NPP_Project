{
 "cells": [
  {
   "cell_type": "markdown",
   "metadata": {},
   "source": [
    "# Setup and Load Libraries"
   ]
  },
  {
   "cell_type": "code",
   "execution_count": null,
   "metadata": {},
   "outputs": [],
   "source": [
    "import pandas as pd\n",
    "import matplotlib.pyplot as plt\n",
    "import seaborn as sns\n",
    "from mpl_toolkits.mplot3d import Axes3D\n",
    "\n",
    "# Load the CSV files\n",
    "features_df = pd.read_csv('../../results/features_with_labels.csv', header=None)\n",
    "eigenvalues_df = pd.read_csv('../../results/eigenvalues.csv', header=None)\n",
    "pca_results_df = pd.read_csv('../../results/pca_results.csv', header=None)\n",
    "\n",
    "# Print the shape of the features dataframe to see the number of columns\n",
    "print(\"Features DataFrame shape:\", features_df.shape)"
   ]
  },
  {
   "cell_type": "markdown",
   "metadata": {},
   "source": [
    "# Visualize the Original Features with Labels"
   ]
  },
  {
   "cell_type": "code",
   "execution_count": null,
   "metadata": {},
   "outputs": [],
   "source": [
    "# Add column names for clarity (check if the number of columns matches)\n",
    "if features_df.shape[1] == 10:\n",
    "    features_df.columns = [\n",
    "        'SpectralCentroid', 'SpectralFlatness', 'SpectralBandwidth', \n",
    "        'ZCR', 'Energy', 'TemporalMean', 'TemporalVariance', \n",
    "        'TemporalSkewness', 'TemporalKurtosis', 'Label'\n",
    "    ]\n",
    "else:\n",
    "    print(\"Unexpected number of columns in features_df\")\n",
    "    print(features_df.head())  # Print the first few rows to inspect\n",
    "\n",
    "# Create a dictionary to map each instrument to a unique marker\n",
    "unique_labels = features_df['Label'].unique()\n",
    "markers = [\"o\", \"s\", \"D\", \"^\", \"v\", \"<\", \">\", \"p\", \"h\", \"8\", \"X\", \"*\", \"P\", \"H\"]  # 14 unique markers for 14 instruments\n",
    "label_to_marker = dict(zip(unique_labels, markers))\n",
    "\n",
    "# Pair plot of the features\n",
    "sns.pairplot(features_df, hue='Label', diag_kind='kde', \n",
    "             markers=[label_to_marker[label] for label in features_df['Label']])\n",
    "plt.suptitle(\"Pair Plot of Original Features\", y=1.02)\n",
    "plt.show()\n"
   ]
  },
  {
   "cell_type": "markdown",
   "metadata": {},
   "source": [
    "# Plot eigenvalues (scree plot, explains variance by each principal components)"
   ]
  },
  {
   "cell_type": "code",
   "execution_count": null,
   "metadata": {},
   "outputs": [],
   "source": [
    "# Sort the eigenvalues in decreasing order\n",
    "sorted_eigenvalues = eigenvalues_df.iloc[0].sort_values(ascending=False)\n",
    "\n",
    "# Plot the eigenvalues\n",
    "plt.figure(figsize=(10, 6))\n",
    "plt.plot(range(1, len(sorted_eigenvalues) + 1), sorted_eigenvalues, marker='o', linestyle='--', color='b')\n",
    "plt.plot(range(1, len(sorted_eigenvalues) + 1), [1.0]*9, linestyle='--', color='r')\n",
    "plt.title('Scree Plot')\n",
    "plt.xlabel('Principal Component')\n",
    "plt.ylabel('Eigenvalue')\n",
    "plt.grid(True)\n",
    "plt.show()"
   ]
  },
  {
   "cell_type": "markdown",
   "metadata": {},
   "source": [
    "# Visualize PCA results"
   ]
  },
  {
   "cell_type": "markdown",
   "metadata": {},
   "source": [
    "## Generate pair plots for all pairs of principal components"
   ]
  },
  {
   "cell_type": "code",
   "execution_count": null,
   "metadata": {},
   "outputs": [],
   "source": [
    "# Set column names for PCA results\n",
    "pca_results_df.columns = [f'Principal Component {i+1}' for i in range(pca_results_df.shape[1])]\n",
    "\n",
    "# Add labels to PCA results for visualization\n",
    "if 'Label' in features_df.columns:\n",
    "    pca_results_df['Label'] = features_df['Label']\n",
    "else:\n",
    "    print(\"Label column not found in features_df\")\n",
    "\n",
    "# Create pair plots for each unique pair of principal components\n",
    "if 'Label' in pca_results_df.columns:\n",
    "    pairs = [(i, j) for i in range(9) for j in range(i+1, 9)]\n",
    "    fig, axes = plt.subplots(6, 6, figsize=(20, 20))\n",
    "\n",
    "    # Prepare markers and colors for the legend\n",
    "    unique_labels = pca_results_df['Label'].unique()\n",
    "    markers = [label_to_marker[label] for label in unique_labels]\n",
    "    colors = sns.color_palette('Set1', len(unique_labels))\n",
    "\n",
    "    for idx, (i, j) in enumerate(pairs):\n",
    "        row, col = divmod(idx, 6)\n",
    "        ax = axes[row, col]\n",
    "\n",
    "        for label, marker, color in zip(unique_labels, markers, colors):\n",
    "            indices = pca_results_df['Label'] == label\n",
    "            ax.scatter(\n",
    "                pca_results_df.loc[indices, f'Principal Component {i+1}'], \n",
    "                pca_results_df.loc[indices, f'Principal Component {j+1}'],\n",
    "                label=label, \n",
    "                marker=marker, \n",
    "                color=color\n",
    "            )\n",
    "\n",
    "        ax.set_xlabel(f'PC{i+1}')\n",
    "        ax.set_ylabel(f'PC{j+1}')\n",
    "        ax.set_title(f'PC{i+1} vs PC{j+1}')\n",
    "\n",
    "    # Add a super title to the figure\n",
    "    plt.suptitle('Plots of principal components against one another for different instruments', fontsize=16, y=1.01)\n",
    "\n",
    "    # Adjust layout to make space for the common legend\n",
    "    plt.tight_layout(rect=[0, 0, 0.925, 1])\n",
    "\n",
    "    # Add the common legend to the right of the plots\n",
    "    handles = [plt.Line2D([0], [0], marker=marker, color='w', label=label, \n",
    "                          markerfacecolor=color, markersize=10) \n",
    "               for label, marker, color in zip(unique_labels, markers, colors)]\n",
    "    fig.legend(handles=handles, loc='center right', title=\"Instrument\")\n",
    "    plt.show()\n",
    "else:\n",
    "    print(\"Skipping plotting due to errors in the dataframes\")"
   ]
  },
  {
   "cell_type": "code",
   "execution_count": null,
   "metadata": {},
   "outputs": [],
   "source": []
  }
 ],
 "metadata": {
  "kernelspec": {
   "display_name": "Python 3",
   "language": "python",
   "name": "python3"
  },
  "language_info": {
   "codemirror_mode": {
    "name": "ipython",
    "version": 3
   },
   "file_extension": ".py",
   "mimetype": "text/x-python",
   "name": "python",
   "nbconvert_exporter": "python",
   "pygments_lexer": "ipython3",
   "version": "3.12.2"
  }
 },
 "nbformat": 4,
 "nbformat_minor": 2
}
