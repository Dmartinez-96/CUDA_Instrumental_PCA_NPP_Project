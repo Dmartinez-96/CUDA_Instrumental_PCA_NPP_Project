{
 "cells": [
  {
   "cell_type": "markdown",
   "metadata": {},
   "source": [
    "# Load in data acquired with NPP"
   ]
  },
  {
   "cell_type": "code",
   "execution_count": 1,
   "metadata": {},
   "outputs": [],
   "source": [
    "import pandas as pd\n",
    "import numpy as np\n",
    "import matplotlib.pyplot as plt\n",
    "import seaborn as sns\n",
    "\n",
    "# Load the feature data\n",
    "features_df = pd.read_csv('../../features_with_labels.csv')\n",
    "# df_grouped = features_df.groupby('label').mean().reset_index()\n",
    "# df_grouped.to_csv('averaged_features_with_labels.csv', index=False)\n",
    "# # Load the averaged data for further processing or visualization\n",
    "# averaged_df = pd.read_csv('averaged_features_with_labels.csv')\n",
    "\n",
    "# Load the PCA results\n",
    "# pca_df = pd.read_csv('../../pca_results.csv')"
   ]
  },
  {
   "cell_type": "markdown",
   "metadata": {},
   "source": [
    "# Visualize the data"
   ]
  },
  {
   "cell_type": "markdown",
   "metadata": {},
   "source": [
    "## Pair plot of features"
   ]
  },
  {
   "cell_type": "code",
   "execution_count": null,
   "metadata": {},
   "outputs": [],
   "source": [
    "plt.figure(dpi=350)\n",
    "sns.pairplot(features_df, hue='label_column_name', diag_kind='kde')\n",
    "plt.show()\n",
    "\n",
    "# Scree plot (explained variance by principal component)\n",
    "explained_variance_ratio = np.var(pca_df, axis=0) / np.var(pca_df).sum()\n",
    "plt.figure(figsize=(10, 7), dpi=350)\n",
    "plt.plot(range(1, len(explained_variance_ratio) + 1), explained_variance_ratio, marker='o')\n",
    "plt.title('Scree Plot')\n",
    "plt.xlabel('Principal Component')\n",
    "plt.ylabel('Variance Explained')\n",
    "plt.show()"
   ]
  },
  {
   "cell_type": "markdown",
   "metadata": {},
   "source": [
    "## Scree plot (explained variance by principal component)"
   ]
  },
  {
   "cell_type": "code",
   "execution_count": null,
   "metadata": {},
   "outputs": [],
   "source": [
    "explained_variance_ratio = np.var(pca_df, axis=0) / np.var(pca_df).sum()\n",
    "plt.figure(figsize=(10, 7), dpi=350)\n",
    "plt.plot(range(1, len(explained_variance_ratio) + 1), explained_variance_ratio, marker='o')\n",
    "plt.title('Scree Plot')\n",
    "plt.xlabel('Principal Component')\n",
    "plt.ylabel('Variance Explained')\n",
    "plt.show()"
   ]
  },
  {
   "cell_type": "markdown",
   "metadata": {},
   "source": [
    "## 2D projection of data onto principal components"
   ]
  },
  {
   "cell_type": "code",
   "execution_count": null,
   "metadata": {},
   "outputs": [],
   "source": [
    "plt.figure(figsize=(10, 7), dpi=350)\n",
    "sns.scatterplot(x=pca_df.iloc[:, 0], y=pca_df.iloc[:, 1], hue=features_df['label_column_name'])\n",
    "plt.title('PCA: 2D Projection')\n",
    "plt.xlabel('Principal Component 1')\n",
    "plt.ylabel('Principal Component 2')\n",
    "plt.show()"
   ]
  },
  {
   "cell_type": "markdown",
   "metadata": {},
   "source": [
    "## 3D projection of data onto principal components"
   ]
  },
  {
   "cell_type": "code",
   "execution_count": null,
   "metadata": {},
   "outputs": [],
   "source": [
    "from mpl_toolkits.mplot3d import Axes3D\n",
    "\n",
    "fig = plt.figure(figsize=(10, 7), dpi=350)\n",
    "ax = fig.add_subplot(111, projection='3d')\n",
    "ax.scatter(pca_df.iloc[:, 0], pca_df.iloc[:, 1], pca_df.iloc[:, 2], c=features_df['label_column_name'], cmap='viridis')\n",
    "ax.set_title('PCA: 3D Projection')\n",
    "ax.set_xlabel('Principal Component 1')\n",
    "ax.set_ylabel('Principal Component 2')\n",
    "ax.set_zlabel('Principal Component 3')\n",
    "plt.show()"
   ]
  }
 ],
 "metadata": {
  "kernelspec": {
   "display_name": "Python 3",
   "language": "python",
   "name": "python3"
  },
  "language_info": {
   "codemirror_mode": {
    "name": "ipython",
    "version": 3
   },
   "file_extension": ".py",
   "mimetype": "text/x-python",
   "name": "python",
   "nbconvert_exporter": "python",
   "pygments_lexer": "ipython3",
   "version": "3.12.2"
  }
 },
 "nbformat": 4,
 "nbformat_minor": 2
}
